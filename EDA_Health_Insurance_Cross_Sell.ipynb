{
 "cells": [
  {
   "cell_type": "markdown",
   "id": "6bb53eec",
   "metadata": {},
   "source": [
    "# EDA On Health Insurance Cross Sell Prediction"
   ]
  },
  {
   "cell_type": "code",
   "execution_count": 34,
   "id": "983ff2c2",
   "metadata": {},
   "outputs": [],
   "source": [
    "import pandas as pd\n",
    "import numpy as np\n",
    "import matplotlib.pyplot as plt\n",
    "import seaborn as sns"
   ]
  },
  {
   "cell_type": "code",
   "execution_count": 35,
   "id": "5e26b394",
   "metadata": {},
   "outputs": [],
   "source": [
    "HealthCrossSell=pd.read_csv(r\"TrainingDataHealthCrossSell.csv\")"
   ]
  },
  {
   "cell_type": "code",
   "execution_count": 36,
   "id": "84480b5c",
   "metadata": {},
   "outputs": [
    {
     "data": {
      "text/html": [
       "<div>\n",
       "<style scoped>\n",
       "    .dataframe tbody tr th:only-of-type {\n",
       "        vertical-align: middle;\n",
       "    }\n",
       "\n",
       "    .dataframe tbody tr th {\n",
       "        vertical-align: top;\n",
       "    }\n",
       "\n",
       "    .dataframe thead th {\n",
       "        text-align: right;\n",
       "    }\n",
       "</style>\n",
       "<table border=\"1\" class=\"dataframe\">\n",
       "  <thead>\n",
       "    <tr style=\"text-align: right;\">\n",
       "      <th></th>\n",
       "      <th>id</th>\n",
       "      <th>Gender</th>\n",
       "      <th>Age</th>\n",
       "      <th>Driving_License</th>\n",
       "      <th>Region_Code</th>\n",
       "      <th>Previously_Insured</th>\n",
       "      <th>Vehicle_Age</th>\n",
       "      <th>Vehicle_Damage</th>\n",
       "      <th>Annual_Premium</th>\n",
       "      <th>Policy_Sales_Channel</th>\n",
       "      <th>Vintage</th>\n",
       "      <th>Response</th>\n",
       "    </tr>\n",
       "  </thead>\n",
       "  <tbody>\n",
       "    <tr>\n",
       "      <th>0</th>\n",
       "      <td>1</td>\n",
       "      <td>Male</td>\n",
       "      <td>44</td>\n",
       "      <td>1</td>\n",
       "      <td>28</td>\n",
       "      <td>0</td>\n",
       "      <td>&gt; 2 Years</td>\n",
       "      <td>Yes</td>\n",
       "      <td>40454</td>\n",
       "      <td>26</td>\n",
       "      <td>217</td>\n",
       "      <td>1</td>\n",
       "    </tr>\n",
       "    <tr>\n",
       "      <th>1</th>\n",
       "      <td>2</td>\n",
       "      <td>Male</td>\n",
       "      <td>76</td>\n",
       "      <td>1</td>\n",
       "      <td>3</td>\n",
       "      <td>0</td>\n",
       "      <td>1-2 Year</td>\n",
       "      <td>No</td>\n",
       "      <td>33536</td>\n",
       "      <td>26</td>\n",
       "      <td>183</td>\n",
       "      <td>0</td>\n",
       "    </tr>\n",
       "    <tr>\n",
       "      <th>2</th>\n",
       "      <td>3</td>\n",
       "      <td>Male</td>\n",
       "      <td>47</td>\n",
       "      <td>1</td>\n",
       "      <td>28</td>\n",
       "      <td>0</td>\n",
       "      <td>&gt; 2 Years</td>\n",
       "      <td>Yes</td>\n",
       "      <td>38294</td>\n",
       "      <td>26</td>\n",
       "      <td>27</td>\n",
       "      <td>1</td>\n",
       "    </tr>\n",
       "    <tr>\n",
       "      <th>3</th>\n",
       "      <td>4</td>\n",
       "      <td>Male</td>\n",
       "      <td>21</td>\n",
       "      <td>1</td>\n",
       "      <td>11</td>\n",
       "      <td>1</td>\n",
       "      <td>&lt; 1 Year</td>\n",
       "      <td>No</td>\n",
       "      <td>28619</td>\n",
       "      <td>152</td>\n",
       "      <td>203</td>\n",
       "      <td>0</td>\n",
       "    </tr>\n",
       "    <tr>\n",
       "      <th>4</th>\n",
       "      <td>5</td>\n",
       "      <td>Female</td>\n",
       "      <td>29</td>\n",
       "      <td>1</td>\n",
       "      <td>41</td>\n",
       "      <td>1</td>\n",
       "      <td>&lt; 1 Year</td>\n",
       "      <td>No</td>\n",
       "      <td>27496</td>\n",
       "      <td>152</td>\n",
       "      <td>39</td>\n",
       "      <td>0</td>\n",
       "    </tr>\n",
       "    <tr>\n",
       "      <th>...</th>\n",
       "      <td>...</td>\n",
       "      <td>...</td>\n",
       "      <td>...</td>\n",
       "      <td>...</td>\n",
       "      <td>...</td>\n",
       "      <td>...</td>\n",
       "      <td>...</td>\n",
       "      <td>...</td>\n",
       "      <td>...</td>\n",
       "      <td>...</td>\n",
       "      <td>...</td>\n",
       "      <td>...</td>\n",
       "    </tr>\n",
       "    <tr>\n",
       "      <th>381104</th>\n",
       "      <td>381105</td>\n",
       "      <td>Male</td>\n",
       "      <td>74</td>\n",
       "      <td>1</td>\n",
       "      <td>26</td>\n",
       "      <td>1</td>\n",
       "      <td>1-2 Year</td>\n",
       "      <td>No</td>\n",
       "      <td>30170</td>\n",
       "      <td>26</td>\n",
       "      <td>88</td>\n",
       "      <td>0</td>\n",
       "    </tr>\n",
       "    <tr>\n",
       "      <th>381105</th>\n",
       "      <td>381106</td>\n",
       "      <td>Male</td>\n",
       "      <td>30</td>\n",
       "      <td>1</td>\n",
       "      <td>37</td>\n",
       "      <td>1</td>\n",
       "      <td>&lt; 1 Year</td>\n",
       "      <td>No</td>\n",
       "      <td>40016</td>\n",
       "      <td>152</td>\n",
       "      <td>131</td>\n",
       "      <td>0</td>\n",
       "    </tr>\n",
       "    <tr>\n",
       "      <th>381106</th>\n",
       "      <td>381107</td>\n",
       "      <td>Male</td>\n",
       "      <td>21</td>\n",
       "      <td>1</td>\n",
       "      <td>30</td>\n",
       "      <td>1</td>\n",
       "      <td>&lt; 1 Year</td>\n",
       "      <td>No</td>\n",
       "      <td>35118</td>\n",
       "      <td>160</td>\n",
       "      <td>161</td>\n",
       "      <td>0</td>\n",
       "    </tr>\n",
       "    <tr>\n",
       "      <th>381107</th>\n",
       "      <td>381108</td>\n",
       "      <td>Female</td>\n",
       "      <td>68</td>\n",
       "      <td>1</td>\n",
       "      <td>14</td>\n",
       "      <td>0</td>\n",
       "      <td>&gt; 2 Years</td>\n",
       "      <td>Yes</td>\n",
       "      <td>44617</td>\n",
       "      <td>124</td>\n",
       "      <td>74</td>\n",
       "      <td>0</td>\n",
       "    </tr>\n",
       "    <tr>\n",
       "      <th>381108</th>\n",
       "      <td>381109</td>\n",
       "      <td>Male</td>\n",
       "      <td>46</td>\n",
       "      <td>1</td>\n",
       "      <td>29</td>\n",
       "      <td>0</td>\n",
       "      <td>1-2 Year</td>\n",
       "      <td>No</td>\n",
       "      <td>41777</td>\n",
       "      <td>26</td>\n",
       "      <td>237</td>\n",
       "      <td>0</td>\n",
       "    </tr>\n",
       "  </tbody>\n",
       "</table>\n",
       "<p>381109 rows × 12 columns</p>\n",
       "</div>"
      ],
      "text/plain": [
       "            id  Gender  Age  Driving_License  Region_Code  Previously_Insured  \\\n",
       "0            1    Male   44                1           28                   0   \n",
       "1            2    Male   76                1            3                   0   \n",
       "2            3    Male   47                1           28                   0   \n",
       "3            4    Male   21                1           11                   1   \n",
       "4            5  Female   29                1           41                   1   \n",
       "...        ...     ...  ...              ...          ...                 ...   \n",
       "381104  381105    Male   74                1           26                   1   \n",
       "381105  381106    Male   30                1           37                   1   \n",
       "381106  381107    Male   21                1           30                   1   \n",
       "381107  381108  Female   68                1           14                   0   \n",
       "381108  381109    Male   46                1           29                   0   \n",
       "\n",
       "       Vehicle_Age Vehicle_Damage  Annual_Premium  Policy_Sales_Channel  \\\n",
       "0        > 2 Years            Yes           40454                    26   \n",
       "1         1-2 Year             No           33536                    26   \n",
       "2        > 2 Years            Yes           38294                    26   \n",
       "3         < 1 Year             No           28619                   152   \n",
       "4         < 1 Year             No           27496                   152   \n",
       "...            ...            ...             ...                   ...   \n",
       "381104    1-2 Year             No           30170                    26   \n",
       "381105    < 1 Year             No           40016                   152   \n",
       "381106    < 1 Year             No           35118                   160   \n",
       "381107   > 2 Years            Yes           44617                   124   \n",
       "381108    1-2 Year             No           41777                    26   \n",
       "\n",
       "        Vintage  Response  \n",
       "0           217         1  \n",
       "1           183         0  \n",
       "2            27         1  \n",
       "3           203         0  \n",
       "4            39         0  \n",
       "...         ...       ...  \n",
       "381104       88         0  \n",
       "381105      131         0  \n",
       "381106      161         0  \n",
       "381107       74         0  \n",
       "381108      237         0  \n",
       "\n",
       "[381109 rows x 12 columns]"
      ]
     },
     "execution_count": 36,
     "metadata": {},
     "output_type": "execute_result"
    }
   ],
   "source": [
    "HealthCrossSell"
   ]
  },
  {
   "cell_type": "code",
   "execution_count": 37,
   "id": "aadaae09",
   "metadata": {},
   "outputs": [
    {
     "name": "stdout",
     "output_type": "stream",
     "text": [
      "The Number of People That Are not Taking The Insurance From The Company Are:  334399\n",
      "The Number of People That Are Taking The Insurance From The Company Are:  46710\n"
     ]
    },
    {
     "data": {
      "text/plain": [
       "<AxesSubplot:xlabel='Response', ylabel='count'>"
      ]
     },
     "execution_count": 37,
     "metadata": {},
     "output_type": "execute_result"
    },
    {
     "data": {
      "image/png": "[encoded data removed]",
      "text/plain": [
       "<Figure size 432x288 with 1 Axes>"
      ]
     },
     "metadata": {
      "needs_background": "light"
     },
     "output_type": "display_data"
    }
   ],
   "source": [
    "# Lets Analyse the number of people that will take this vehicle Insurance from The company\n",
    "arr=HealthCrossSell[\"Response\"].value_counts()\n",
    "\n",
    "print(\"The Number of People That Are not Taking The Insurance From The Company Are: \",arr[0])\n",
    "print(\"The Number of People That Are Taking The Insurance From The Company Are: \",arr[1])\n",
    "\n",
    "sns.countplot(x=HealthCrossSell[\"Response\"])\n",
    "\n",
    "# From This we Can Say that most of the people that are in the dataset will not prefer to take the \n",
    "# Vehicle Insurnace From This Company "
   ]
  },
  {
   "cell_type": "code",
   "execution_count": 38,
   "id": "699678ae",
   "metadata": {},
   "outputs": [
    {
     "name": "stdout",
     "output_type": "stream",
     "text": [
      "The Number Of Males In The Insurance List:  206089\n",
      "The Number Of Females In The Insurance List:  175020\n"
     ]
    },
    {
     "data": {
      "text/plain": [
       "<AxesSubplot:xlabel='Gender', ylabel='count'>"
      ]
     },
     "execution_count": 38,
     "metadata": {},
     "output_type": "execute_result"
    },
    {
     "data": {
      "image/png": "[encoded data removed]",
      "text/plain": [
       "<Figure size 432x288 with 1 Axes>"
      ]
     },
     "metadata": {
      "needs_background": "light"
     },
     "output_type": "display_data"
    }
   ],
   "source": [
    "#Analysing The Amount Of Males And Females That are Currently Taken The Insurance\n",
    "\n",
    "arr=HealthCrossSell[\"Gender\"].value_counts()\n",
    "print(\"The Number Of Males In The Insurance List: \",arr[0])\n",
    "print(\"The Number Of Females In The Insurance List: \",arr[1])\n",
    "\n",
    "sns.countplot(x=HealthCrossSell[\"Gender\"])\n",
    "\n",
    "# Males and Females have been distributed nearly fairly equally\n",
    "# There is a difference of 30000 between the two of them \n",
    "# Also from this we can say that there is no bias in this attribute"
   ]
  },
  {
   "cell_type": "code",
   "execution_count": 39,
   "id": "924d6985",
   "metadata": {},
   "outputs": [
    {
     "name": "stdout",
     "output_type": "stream",
     "text": [
      "The Number of People That Are Not Previously Insured Are:  206481\n",
      "The Number of People That Are Previously Insured Are:  174628\n"
     ]
    },
    {
     "data": {
      "text/plain": [
       "<AxesSubplot:xlabel='Previously_Insured', ylabel='count'>"
      ]
     },
     "execution_count": 39,
     "metadata": {},
     "output_type": "execute_result"
    },
    {
     "data": {
      "image/png": "[encoded data removed]",
      "text/plain": [
       "<Figure size 432x288 with 1 Axes>"
      ]
     },
     "metadata": {
      "needs_background": "light"
     },
     "output_type": "display_data"
    }
   ],
   "source": [
    "# Analysing the amount of people that have been previously insured from this company\n",
    "\n",
    "arr=HealthCrossSell[\"Previously_Insured\"].value_counts()\n",
    "print(\"The Number of People That Are Not Previously Insured Are: \",arr[0])\n",
    "print(\"The Number of People That Are Previously Insured Are: \",arr[1])\n",
    "sns.countplot(x=HealthCrossSell[\"Previously_Insured\"])\n",
    "\n",
    "# This can be seen that There are nearly fairly Equal Proportion of the people that have \n",
    "# been previously insured and not previously insured as well looking at the dataset\n",
    "# Although there is a gap between both of then (nearly 30000 )\n",
    "# Also from this we can say that there is no bias in this attribute"
   ]
  },
  {
   "cell_type": "code",
   "execution_count": 40,
   "id": "284a674d",
   "metadata": {},
   "outputs": [
    {
     "name": "stdout",
     "output_type": "stream",
     "text": [
      "Number Of Vehicles With Vehicle Age in 1 to 2 Years:  200316\n",
      "Number Of Vehicles With Vehicle Age Lesser Than 1 Year:  164786\n",
      "Number Of Vehicles With Vehicle Age Greater Than 2 Years:  16007\n"
     ]
    },
    {
     "data": {
      "text/plain": [
       "<AxesSubplot:xlabel='Vehicle_Age', ylabel='count'>"
      ]
     },
     "execution_count": 40,
     "metadata": {},
     "output_type": "execute_result"
    },
    {
     "data": {
      "image/png": "[encoded data removed]",
      "text/plain": [
       "<Figure size 432x288 with 1 Axes>"
      ]
     },
     "metadata": {
      "needs_background": "light"
     },
     "output_type": "display_data"
    }
   ],
   "source": [
    "# Lets analyse the age of all the vehicles on whom the users will take an Insurance\n",
    "arr=HealthCrossSell[\"Vehicle_Age\"].value_counts()\n",
    "\n",
    "print(\"Number Of Vehicles With Vehicle Age in 1 to 2 Years: \",arr[0])\n",
    "print(\"Number Of Vehicles With Vehicle Age Lesser Than 1 Year: \",arr[1])\n",
    "print(\"Number Of Vehicles With Vehicle Age Greater Than 2 Years: \",arr[2])\n",
    "\n",
    "sns.countplot(x=HealthCrossSell[\"Vehicle_Age\"])\n",
    "\n",
    "# There are significantly less number of people that have age of vehicle greater than 2 Years\\\n",
    "# The Others are faily same we can say"
   ]
  },
  {
   "cell_type": "code",
   "execution_count": 41,
   "id": "256738da",
   "metadata": {
    "scrolled": true
   },
   "outputs": [
    {
     "name": "stdout",
     "output_type": "stream",
     "text": [
      "The mean age of the people taking the insurance is :  38\n",
      "The mean age of the people not taking the insurance is :  43\n"
     ]
    }
   ],
   "source": [
    "# Lets analyse whats the mean age of the people who are taking the insurance\n",
    "yes_insurance=[]\n",
    "no_insurance=[]\n",
    "count=0\n",
    "for ele in HealthCrossSell[\"Response\"]:\n",
    "    if ele==0:\n",
    "        yes_insurance.append(HealthCrossSell[\"Age\"][count])\n",
    "    else:\n",
    "        no_insurance.append(HealthCrossSell[\"Age\"][count])\n",
    "    count+=1\n",
    "\n",
    "print(\"The mean age of the people taking the insurance is : \",sum(yes_insurance)//len(yes_insurance))\n",
    "print(\"The mean age of the people not taking the insurance is : \",sum(no_insurance)//len(no_insurance))\n",
    "\n",
    "# From this we can analyse that there is quite a difference in the mean ages of the people that \n",
    "# want to take the insurance from the same company "
   ]
  },
  {
   "cell_type": "code",
   "execution_count": 42,
   "id": "711db33c",
   "metadata": {},
   "outputs": [
    {
     "name": "stdout",
     "output_type": "stream",
     "text": [
      "Number of people continuing with buying vehicle Insurnace:  158\n",
      "Number of people not continuing with buying vehicle Insurnace:  174470\n"
     ]
    },
    {
     "data": {
      "text/plain": [
       "<BarContainer object of 2 artists>"
      ]
     },
     "execution_count": 42,
     "metadata": {},
     "output_type": "execute_result"
    },
    {
     "data": {
      "image/png": "[encoded data removed]",
      "text/plain": [
       "<Figure size 1080x504 with 1 Axes>"
      ]
     },
     "metadata": {
      "needs_background": "light"
     },
     "output_type": "display_data"
    }
   ],
   "source": [
    "# Lets see how many people actually want to comtinue taking vehicle insurance from this company \n",
    "# as they have taken insurance of health from her only\n",
    "\n",
    "yes,no,count=0,0,0\n",
    "\n",
    "for ele in HealthCrossSell[\"Response\"]:\n",
    "    if ele==1 and HealthCrossSell[\"Previously_Insured\"][count]==1:\n",
    "        yes+=1\n",
    "    elif ele==0 and HealthCrossSell[\"Previously_Insured\"][count]==1:\n",
    "        no+=1\n",
    "    count+=1\n",
    "print(\"Number of people continuing with buying vehicle Insurnace: \",yes)\n",
    "print(\"Number of people not continuing with buying vehicle Insurnace: \",no)\n",
    "\n",
    "arr1=[\"Continuing With Insurance\",\"Discontinuing With Insurance\"]\n",
    "arr2=np.array([yes,no])\n",
    "plt.figure(figsize=(15,7))\n",
    "plt.bar(arr1,arr2)\n",
    "\n",
    "# We can see that only a meagre number of people that is 158 are willing to take the vehicle insurance from the \n",
    "# same company from which they had taken the health insurance as well"
   ]
  },
  {
   "cell_type": "code",
   "execution_count": 44,
   "id": "3074e643",
   "metadata": {},
   "outputs": [
    {
     "name": "stdout",
     "output_type": "stream",
     "text": [
      "Number of Males Taking Both the Insurnaces:  96\n",
      "Number of Females Taking Both the Insurnaces:  62\n"
     ]
    },
    {
     "data": {
      "text/plain": [
       "<BarContainer object of 2 artists>"
      ]
     },
     "execution_count": 44,
     "metadata": {},
     "output_type": "execute_result"
    },
    {
     "data": {
      "image/png": "[encoded data removed]",
      "text/plain": [
       "<Figure size 432x288 with 1 Axes>"
      ]
     },
     "metadata": {
      "needs_background": "light"
     },
     "output_type": "display_data"
    }
   ],
   "source": [
    "# Let us analyse gender of the people taking both the insurance health as well as vehicle\n",
    "males,females,count=0,0,0\n",
    "\n",
    "for ele in HealthCrossSell[\"Response\"]:\n",
    "    if ele==1 and HealthCrossSell[\"Previously_Insured\"][count]==1 and HealthCrossSell[\"Gender\"][count]==\"Male\":\n",
    "        males+=1\n",
    "    elif ele==1 and HealthCrossSell[\"Previously_Insured\"][count]==1 and HealthCrossSell[\"Gender\"][count]==\"Female\":\n",
    "        females+=1\n",
    "    count+=1\n",
    "    \n",
    "print(\"Number of Males Taking Both the Insurnaces: \",males)\n",
    "print(\"Number of Females Taking Both the Insurnaces: \",females)\n",
    "\n",
    "arr1=[\"Males\",\"Females\"]\n",
    "arr2=np.array([males,females])\n",
    "plt.figure(figsize=(6,4))\n",
    "plt.bar(arr1,arr2)\n",
    "\n",
    "# We can see that most of the people taking both the insurances are the males\n",
    "# The number of females that are taking both in"
   ]
  },
  {
   "cell_type": "code",
   "execution_count": 47,
   "id": "d874e44b",
   "metadata": {},
   "outputs": [
    {
     "name": "stdout",
     "output_type": "stream",
     "text": [
      "The Mean Annual Premium of that company insurance is:  31604\n",
      "The minimum annual premium of customer is :  2630\n",
      "The maximum annual premium of customer is :  540165\n"
     ]
    }
   ],
   "source": [
    "# One of the main reasons why people are not taking the insurance maybe the \n",
    "# high annual premium the company charges on its insurance. So lets analyse that \n",
    "arr=[]\n",
    "count=0\n",
    "for ele in HealthCrossSell[\"Response\"]:\n",
    "    if ele==1:\n",
    "        arr.append(HealthCrossSell[\"Annual_Premium\"][count])\n",
    "    count+=1\n",
    "    \n",
    "print(\"The Mean Annual Premium of that company insurance is: \",sum(arr)//len(arr))\n",
    "\n",
    "print(\"The minimum annual premium of customer is : \",min(arr))\n",
    "print(\"The maximum annual premium of customer is : \",max(arr))\n",
    "\n",
    "# From this we can say that maybe most of the customers are not taking this \n",
    "# Insurance Due to The high annual premium"
   ]
  }
 ],
 "metadata": {
  "kernelspec": {
   "display_name": "Python 3",
   "language": "python",
   "name": "python3"
  },
  "language_info": {
   "codemirror_mode": {
    "name": "ipython",
    "version": 3
   },
   "file_extension": ".py",
   "mimetype": "text/x-python",
   "name": "python",
   "nbconvert_exporter": "python",
   "pygments_lexer": "ipython3",
   "version": "3.8.8"
  }
 },
 "nbformat": 4,
 "nbformat_minor": 5
}
